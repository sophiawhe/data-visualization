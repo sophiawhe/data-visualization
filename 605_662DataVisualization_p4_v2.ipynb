{
  "nbformat": 4,
  "nbformat_minor": 0,
  "metadata": {
    "colab": {
      "name": "605-662DataVisualization-p4-v2.ipynb",
      "provenance": [],
      "collapsed_sections": [],
      "authorship_tag": "ABX9TyNJLjI4wjU+4TspTkyKFZ/1",
      "include_colab_link": true
    },
    "kernelspec": {
      "name": "python3",
      "display_name": "Python 3"
    },
    "language_info": {
      "name": "python"
    },
    "widgets": {
      "application/vnd.jupyter.widget-state+json": {
        "c6fb58568bff450a802cf296faa8b07c": {
          "model_module": "@jupyter-widgets/controls",
          "model_name": "VBoxModel",
          "model_module_version": "1.5.0",
          "state": {
            "_view_name": "VBoxView",
            "_dom_classes": [
              "widget-interact"
            ],
            "_model_name": "VBoxModel",
            "_view_module": "@jupyter-widgets/controls",
            "_model_module_version": "1.5.0",
            "_view_count": null,
            "_view_module_version": "1.5.0",
            "box_style": "",
            "layout": "IPY_MODEL_723c1e7bdafd451aa613e838a779a127",
            "_model_module": "@jupyter-widgets/controls",
            "children": [
              "IPY_MODEL_76c983b27366445ea28c832e678dc33c",
              "IPY_MODEL_38c846a1d7144a23a484c284d8d2238b"
            ]
          }
        },
        "723c1e7bdafd451aa613e838a779a127": {
          "model_module": "@jupyter-widgets/base",
          "model_name": "LayoutModel",
          "model_module_version": "1.2.0",
          "state": {
            "_view_name": "LayoutView",
            "grid_template_rows": null,
            "right": null,
            "justify_content": null,
            "_view_module": "@jupyter-widgets/base",
            "overflow": null,
            "_model_module_version": "1.2.0",
            "_view_count": null,
            "flex_flow": null,
            "width": null,
            "min_width": null,
            "border": null,
            "align_items": null,
            "bottom": null,
            "_model_module": "@jupyter-widgets/base",
            "top": null,
            "grid_column": null,
            "overflow_y": null,
            "overflow_x": null,
            "grid_auto_flow": null,
            "grid_area": null,
            "grid_template_columns": null,
            "flex": null,
            "_model_name": "LayoutModel",
            "justify_items": null,
            "grid_row": null,
            "max_height": null,
            "align_content": null,
            "visibility": null,
            "align_self": null,
            "height": null,
            "min_height": null,
            "padding": null,
            "grid_auto_rows": null,
            "grid_gap": null,
            "max_width": null,
            "order": null,
            "_view_module_version": "1.2.0",
            "grid_template_areas": null,
            "object_position": null,
            "object_fit": null,
            "grid_auto_columns": null,
            "margin": null,
            "display": null,
            "left": null
          }
        },
        "76c983b27366445ea28c832e678dc33c": {
          "model_module": "@jupyter-widgets/controls",
          "model_name": "DropdownModel",
          "model_module_version": "1.5.0",
          "state": {
            "_options_labels": [
              "5",
              "10",
              "20",
              "50"
            ],
            "_view_name": "DropdownView",
            "style": "IPY_MODEL_bacf4d8696a74c1ba12a7305a88a0d69",
            "_dom_classes": [],
            "description": "maximum",
            "_model_name": "DropdownModel",
            "index": 0,
            "_view_module": "@jupyter-widgets/controls",
            "_model_module_version": "1.5.0",
            "_view_count": null,
            "disabled": false,
            "_view_module_version": "1.5.0",
            "description_tooltip": null,
            "_model_module": "@jupyter-widgets/controls",
            "layout": "IPY_MODEL_38d643938c9146c4bd7f6ca102e912e5"
          }
        },
        "38c846a1d7144a23a484c284d8d2238b": {
          "model_module": "@jupyter-widgets/output",
          "model_name": "OutputModel",
          "model_module_version": "1.0.0",
          "state": {
            "_view_name": "OutputView",
            "msg_id": "",
            "_dom_classes": [],
            "_model_name": "OutputModel",
            "outputs": [
              {
                "output_type": "display_data",
                "data": {
                  "image/png": "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\n",
                  "text/plain": "<Figure size 1440x720 with 1 Axes>"
                },
                "metadata": {
                  "needs_background": "light"
                }
              }
            ],
            "_view_module": "@jupyter-widgets/output",
            "_model_module_version": "1.0.0",
            "_view_count": null,
            "_view_module_version": "1.0.0",
            "layout": "IPY_MODEL_9c349b1a21574e928cf44ee725a20b58",
            "_model_module": "@jupyter-widgets/output"
          }
        },
        "bacf4d8696a74c1ba12a7305a88a0d69": {
          "model_module": "@jupyter-widgets/controls",
          "model_name": "DescriptionStyleModel",
          "model_module_version": "1.5.0",
          "state": {
            "_view_name": "StyleView",
            "_model_name": "DescriptionStyleModel",
            "description_width": "",
            "_view_module": "@jupyter-widgets/base",
            "_model_module_version": "1.5.0",
            "_view_count": null,
            "_view_module_version": "1.2.0",
            "_model_module": "@jupyter-widgets/controls"
          }
        },
        "38d643938c9146c4bd7f6ca102e912e5": {
          "model_module": "@jupyter-widgets/base",
          "model_name": "LayoutModel",
          "model_module_version": "1.2.0",
          "state": {
            "_view_name": "LayoutView",
            "grid_template_rows": null,
            "right": null,
            "justify_content": null,
            "_view_module": "@jupyter-widgets/base",
            "overflow": null,
            "_model_module_version": "1.2.0",
            "_view_count": null,
            "flex_flow": null,
            "width": null,
            "min_width": null,
            "border": null,
            "align_items": null,
            "bottom": null,
            "_model_module": "@jupyter-widgets/base",
            "top": null,
            "grid_column": null,
            "overflow_y": null,
            "overflow_x": null,
            "grid_auto_flow": null,
            "grid_area": null,
            "grid_template_columns": null,
            "flex": null,
            "_model_name": "LayoutModel",
            "justify_items": null,
            "grid_row": null,
            "max_height": null,
            "align_content": null,
            "visibility": null,
            "align_self": null,
            "height": null,
            "min_height": null,
            "padding": null,
            "grid_auto_rows": null,
            "grid_gap": null,
            "max_width": null,
            "order": null,
            "_view_module_version": "1.2.0",
            "grid_template_areas": null,
            "object_position": null,
            "object_fit": null,
            "grid_auto_columns": null,
            "margin": null,
            "display": null,
            "left": null
          }
        },
        "9c349b1a21574e928cf44ee725a20b58": {
          "model_module": "@jupyter-widgets/base",
          "model_name": "LayoutModel",
          "model_module_version": "1.2.0",
          "state": {
            "_view_name": "LayoutView",
            "grid_template_rows": null,
            "right": null,
            "justify_content": null,
            "_view_module": "@jupyter-widgets/base",
            "overflow": null,
            "_model_module_version": "1.2.0",
            "_view_count": null,
            "flex_flow": null,
            "width": null,
            "min_width": null,
            "border": null,
            "align_items": null,
            "bottom": null,
            "_model_module": "@jupyter-widgets/base",
            "top": null,
            "grid_column": null,
            "overflow_y": null,
            "overflow_x": null,
            "grid_auto_flow": null,
            "grid_area": null,
            "grid_template_columns": null,
            "flex": null,
            "_model_name": "LayoutModel",
            "justify_items": null,
            "grid_row": null,
            "max_height": null,
            "align_content": null,
            "visibility": null,
            "align_self": null,
            "height": null,
            "min_height": null,
            "padding": null,
            "grid_auto_rows": null,
            "grid_gap": null,
            "max_width": null,
            "order": null,
            "_view_module_version": "1.2.0",
            "grid_template_areas": null,
            "object_position": null,
            "object_fit": null,
            "grid_auto_columns": null,
            "margin": null,
            "display": null,
            "left": null
          }
        }
      }
    }
  },
  "cells": [
    {
      "cell_type": "markdown",
      "metadata": {
        "id": "view-in-github",
        "colab_type": "text"
      },
      "source": [
        "<a href=\"https://colab.research.google.com/github/sophiawhe/data-visualization/blob/main/605_662DataVisualization_p4_v2.ipynb\" target=\"_parent\"><img src=\"https://colab.research.google.com/assets/colab-badge.svg\" alt=\"Open In Colab\"/></a>"
      ]
    },
    {
      "cell_type": "code",
      "metadata": {
        "id": "XrO5DzK9UoQW"
      },
      "source": [
        "# imports\n",
        "import numpy as np\n",
        "import pandas as pd\n",
        "from os import path\n",
        "from ipywidgets import widgets, interact, interactive, fixed\n",
        "\n",
        "import matplotlib.pyplot as plt\n",
        "% matplotlib inline\n",
        "import warnings\n",
        "warnings.filterwarnings(\"ignore\")"
      ],
      "execution_count": 1,
      "outputs": []
    },
    {
      "cell_type": "code",
      "metadata": {
        "colab": {
          "base_uri": "https://localhost:8080/",
          "height": 280
        },
        "id": "smukEPiyUvo3",
        "outputId": "9a671c7b-3f87-4225-f5ce-edb42c81242d"
      },
      "source": [
        "# Load dataframe\n",
        "df = pd.read_csv(\"winemag-data-130k-v2.csv\", index_col=0)\n",
        "# Looking at first 5 rows of the dataset\n",
        "df.head()"
      ],
      "execution_count": 2,
      "outputs": [
        {
          "output_type": "execute_result",
          "data": {
            "text/html": [
              "<div>\n",
              "<style scoped>\n",
              "    .dataframe tbody tr th:only-of-type {\n",
              "        vertical-align: middle;\n",
              "    }\n",
              "\n",
              "    .dataframe tbody tr th {\n",
              "        vertical-align: top;\n",
              "    }\n",
              "\n",
              "    .dataframe thead th {\n",
              "        text-align: right;\n",
              "    }\n",
              "</style>\n",
              "<table border=\"1\" class=\"dataframe\">\n",
              "  <thead>\n",
              "    <tr style=\"text-align: right;\">\n",
              "      <th></th>\n",
              "      <th>country</th>\n",
              "      <th>description</th>\n",
              "      <th>designation</th>\n",
              "      <th>points</th>\n",
              "      <th>price</th>\n",
              "      <th>province</th>\n",
              "      <th>region_1</th>\n",
              "      <th>region_2</th>\n",
              "      <th>taster_name</th>\n",
              "      <th>taster_twitter_handle</th>\n",
              "      <th>title</th>\n",
              "      <th>variety</th>\n",
              "      <th>winery</th>\n",
              "    </tr>\n",
              "  </thead>\n",
              "  <tbody>\n",
              "    <tr>\n",
              "      <th>0</th>\n",
              "      <td>Italy</td>\n",
              "      <td>Aromas include tropical fruit, broom, brimston...</td>\n",
              "      <td>Vulkà Bianco</td>\n",
              "      <td>87</td>\n",
              "      <td>NaN</td>\n",
              "      <td>Sicily &amp; Sardinia</td>\n",
              "      <td>Etna</td>\n",
              "      <td>NaN</td>\n",
              "      <td>Kerin O’Keefe</td>\n",
              "      <td>@kerinokeefe</td>\n",
              "      <td>Nicosia 2013 Vulkà Bianco  (Etna)</td>\n",
              "      <td>White Blend</td>\n",
              "      <td>Nicosia</td>\n",
              "    </tr>\n",
              "    <tr>\n",
              "      <th>1</th>\n",
              "      <td>Portugal</td>\n",
              "      <td>This is ripe and fruity, a wine that is smooth...</td>\n",
              "      <td>Avidagos</td>\n",
              "      <td>87</td>\n",
              "      <td>15.0</td>\n",
              "      <td>Douro</td>\n",
              "      <td>NaN</td>\n",
              "      <td>NaN</td>\n",
              "      <td>Roger Voss</td>\n",
              "      <td>@vossroger</td>\n",
              "      <td>Quinta dos Avidagos 2011 Avidagos Red (Douro)</td>\n",
              "      <td>Portuguese Red</td>\n",
              "      <td>Quinta dos Avidagos</td>\n",
              "    </tr>\n",
              "    <tr>\n",
              "      <th>2</th>\n",
              "      <td>US</td>\n",
              "      <td>Tart and snappy, the flavors of lime flesh and...</td>\n",
              "      <td>NaN</td>\n",
              "      <td>87</td>\n",
              "      <td>14.0</td>\n",
              "      <td>Oregon</td>\n",
              "      <td>Willamette Valley</td>\n",
              "      <td>Willamette Valley</td>\n",
              "      <td>Paul Gregutt</td>\n",
              "      <td>@paulgwine</td>\n",
              "      <td>Rainstorm 2013 Pinot Gris (Willamette Valley)</td>\n",
              "      <td>Pinot Gris</td>\n",
              "      <td>Rainstorm</td>\n",
              "    </tr>\n",
              "    <tr>\n",
              "      <th>3</th>\n",
              "      <td>US</td>\n",
              "      <td>Pineapple rind, lemon pith and orange blossom ...</td>\n",
              "      <td>Reserve Late Harvest</td>\n",
              "      <td>87</td>\n",
              "      <td>13.0</td>\n",
              "      <td>Michigan</td>\n",
              "      <td>Lake Michigan Shore</td>\n",
              "      <td>NaN</td>\n",
              "      <td>Alexander Peartree</td>\n",
              "      <td>NaN</td>\n",
              "      <td>St. Julian 2013 Reserve Late Harvest Riesling ...</td>\n",
              "      <td>Riesling</td>\n",
              "      <td>St. Julian</td>\n",
              "    </tr>\n",
              "    <tr>\n",
              "      <th>4</th>\n",
              "      <td>US</td>\n",
              "      <td>Much like the regular bottling from 2012, this...</td>\n",
              "      <td>Vintner's Reserve Wild Child Block</td>\n",
              "      <td>87</td>\n",
              "      <td>65.0</td>\n",
              "      <td>Oregon</td>\n",
              "      <td>Willamette Valley</td>\n",
              "      <td>Willamette Valley</td>\n",
              "      <td>Paul Gregutt</td>\n",
              "      <td>@paulgwine</td>\n",
              "      <td>Sweet Cheeks 2012 Vintner's Reserve Wild Child...</td>\n",
              "      <td>Pinot Noir</td>\n",
              "      <td>Sweet Cheeks</td>\n",
              "    </tr>\n",
              "  </tbody>\n",
              "</table>\n",
              "</div>"
            ],
            "text/plain": [
              "    country  ...               winery\n",
              "0     Italy  ...              Nicosia\n",
              "1  Portugal  ...  Quinta dos Avidagos\n",
              "2        US  ...            Rainstorm\n",
              "3        US  ...           St. Julian\n",
              "4        US  ...         Sweet Cheeks\n",
              "\n",
              "[5 rows x 13 columns]"
            ]
          },
          "metadata": {},
          "execution_count": 2
        }
      ]
    },
    {
      "cell_type": "code",
      "metadata": {
        "colab": {
          "base_uri": "https://localhost:8080/"
        },
        "id": "BgDAdGXrVvdf",
        "outputId": "1bc64113-2d43-4b0d-f8fc-51c79a71a5e2"
      },
      "source": [
        "print(\"There are {} observations and {} features in this dataset. \\n\".format(df.shape[0],df.shape[1]))\n",
        "\n",
        "print(\"There are {} types of wine in this dataset such as {}... \\n\".format(len(df.variety.unique()),\n",
        "                                                                           \", \".join(df.variety.unique()[0:5])))\n",
        "\n",
        "print(\"There are {} countries producing wine in this dataset such as {}... \\n\".format(len(df.country.unique()),\n",
        "                                                                                      \", \".join(df.country.unique()[0:5])))\n"
      ],
      "execution_count": 3,
      "outputs": [
        {
          "output_type": "stream",
          "name": "stdout",
          "text": [
            "There are 129971 observations and 13 features in this dataset. \n",
            "\n",
            "There are 708 types of wine in this dataset such as White Blend, Portuguese Red, Pinot Gris, Riesling, Pinot Noir... \n",
            "\n",
            "There are 44 countries producing wine in this dataset such as Italy, Portugal, US, Spain, France... \n",
            "\n"
          ]
        }
      ]
    },
    {
      "cell_type": "code",
      "metadata": {
        "colab": {
          "base_uri": "https://localhost:8080/",
          "height": 200
        },
        "id": "qRm1ugyZVylT",
        "outputId": "4d4d6f4a-76e5-4788-e3f4-e281190ca6f4"
      },
      "source": [
        "df[[\"country\", \"description\",\"points\"]].head()"
      ],
      "execution_count": 4,
      "outputs": [
        {
          "output_type": "execute_result",
          "data": {
            "text/html": [
              "<div>\n",
              "<style scoped>\n",
              "    .dataframe tbody tr th:only-of-type {\n",
              "        vertical-align: middle;\n",
              "    }\n",
              "\n",
              "    .dataframe tbody tr th {\n",
              "        vertical-align: top;\n",
              "    }\n",
              "\n",
              "    .dataframe thead th {\n",
              "        text-align: right;\n",
              "    }\n",
              "</style>\n",
              "<table border=\"1\" class=\"dataframe\">\n",
              "  <thead>\n",
              "    <tr style=\"text-align: right;\">\n",
              "      <th></th>\n",
              "      <th>country</th>\n",
              "      <th>description</th>\n",
              "      <th>points</th>\n",
              "    </tr>\n",
              "  </thead>\n",
              "  <tbody>\n",
              "    <tr>\n",
              "      <th>0</th>\n",
              "      <td>Italy</td>\n",
              "      <td>Aromas include tropical fruit, broom, brimston...</td>\n",
              "      <td>87</td>\n",
              "    </tr>\n",
              "    <tr>\n",
              "      <th>1</th>\n",
              "      <td>Portugal</td>\n",
              "      <td>This is ripe and fruity, a wine that is smooth...</td>\n",
              "      <td>87</td>\n",
              "    </tr>\n",
              "    <tr>\n",
              "      <th>2</th>\n",
              "      <td>US</td>\n",
              "      <td>Tart and snappy, the flavors of lime flesh and...</td>\n",
              "      <td>87</td>\n",
              "    </tr>\n",
              "    <tr>\n",
              "      <th>3</th>\n",
              "      <td>US</td>\n",
              "      <td>Pineapple rind, lemon pith and orange blossom ...</td>\n",
              "      <td>87</td>\n",
              "    </tr>\n",
              "    <tr>\n",
              "      <th>4</th>\n",
              "      <td>US</td>\n",
              "      <td>Much like the regular bottling from 2012, this...</td>\n",
              "      <td>87</td>\n",
              "    </tr>\n",
              "  </tbody>\n",
              "</table>\n",
              "</div>"
            ],
            "text/plain": [
              "    country                                        description  points\n",
              "0     Italy  Aromas include tropical fruit, broom, brimston...      87\n",
              "1  Portugal  This is ripe and fruity, a wine that is smooth...      87\n",
              "2        US  Tart and snappy, the flavors of lime flesh and...      87\n",
              "3        US  Pineapple rind, lemon pith and orange blossom ...      87\n",
              "4        US  Much like the regular bottling from 2012, this...      87"
            ]
          },
          "metadata": {},
          "execution_count": 4
        }
      ]
    },
    {
      "cell_type": "code",
      "metadata": {
        "colab": {
          "base_uri": "https://localhost:8080/",
          "height": 260
        },
        "id": "DyTIRpnwV7_B",
        "outputId": "1f2bb842-53d9-497c-b4e8-d3e5c6369e39"
      },
      "source": [
        "# Groupby by country\n",
        "country = df.groupby(\"country\")\n",
        "\n",
        "# Summary statistic of all countries\n",
        "country.describe().head()"
      ],
      "execution_count": 5,
      "outputs": [
        {
          "output_type": "execute_result",
          "data": {
            "text/html": [
              "<div>\n",
              "<style scoped>\n",
              "    .dataframe tbody tr th:only-of-type {\n",
              "        vertical-align: middle;\n",
              "    }\n",
              "\n",
              "    .dataframe tbody tr th {\n",
              "        vertical-align: top;\n",
              "    }\n",
              "\n",
              "    .dataframe thead tr th {\n",
              "        text-align: left;\n",
              "    }\n",
              "\n",
              "    .dataframe thead tr:last-of-type th {\n",
              "        text-align: right;\n",
              "    }\n",
              "</style>\n",
              "<table border=\"1\" class=\"dataframe\">\n",
              "  <thead>\n",
              "    <tr>\n",
              "      <th></th>\n",
              "      <th colspan=\"8\" halign=\"left\">points</th>\n",
              "      <th colspan=\"8\" halign=\"left\">price</th>\n",
              "    </tr>\n",
              "    <tr>\n",
              "      <th></th>\n",
              "      <th>count</th>\n",
              "      <th>mean</th>\n",
              "      <th>std</th>\n",
              "      <th>min</th>\n",
              "      <th>25%</th>\n",
              "      <th>50%</th>\n",
              "      <th>75%</th>\n",
              "      <th>max</th>\n",
              "      <th>count</th>\n",
              "      <th>mean</th>\n",
              "      <th>std</th>\n",
              "      <th>min</th>\n",
              "      <th>25%</th>\n",
              "      <th>50%</th>\n",
              "      <th>75%</th>\n",
              "      <th>max</th>\n",
              "    </tr>\n",
              "    <tr>\n",
              "      <th>country</th>\n",
              "      <th></th>\n",
              "      <th></th>\n",
              "      <th></th>\n",
              "      <th></th>\n",
              "      <th></th>\n",
              "      <th></th>\n",
              "      <th></th>\n",
              "      <th></th>\n",
              "      <th></th>\n",
              "      <th></th>\n",
              "      <th></th>\n",
              "      <th></th>\n",
              "      <th></th>\n",
              "      <th></th>\n",
              "      <th></th>\n",
              "      <th></th>\n",
              "    </tr>\n",
              "  </thead>\n",
              "  <tbody>\n",
              "    <tr>\n",
              "      <th>Argentina</th>\n",
              "      <td>3800.0</td>\n",
              "      <td>86.710263</td>\n",
              "      <td>3.179627</td>\n",
              "      <td>80.0</td>\n",
              "      <td>84.00</td>\n",
              "      <td>87.0</td>\n",
              "      <td>89.00</td>\n",
              "      <td>97.0</td>\n",
              "      <td>3756.0</td>\n",
              "      <td>24.510117</td>\n",
              "      <td>23.430122</td>\n",
              "      <td>4.0</td>\n",
              "      <td>12.00</td>\n",
              "      <td>17.0</td>\n",
              "      <td>25.00</td>\n",
              "      <td>230.0</td>\n",
              "    </tr>\n",
              "    <tr>\n",
              "      <th>Armenia</th>\n",
              "      <td>2.0</td>\n",
              "      <td>87.500000</td>\n",
              "      <td>0.707107</td>\n",
              "      <td>87.0</td>\n",
              "      <td>87.25</td>\n",
              "      <td>87.5</td>\n",
              "      <td>87.75</td>\n",
              "      <td>88.0</td>\n",
              "      <td>2.0</td>\n",
              "      <td>14.500000</td>\n",
              "      <td>0.707107</td>\n",
              "      <td>14.0</td>\n",
              "      <td>14.25</td>\n",
              "      <td>14.5</td>\n",
              "      <td>14.75</td>\n",
              "      <td>15.0</td>\n",
              "    </tr>\n",
              "    <tr>\n",
              "      <th>Australia</th>\n",
              "      <td>2329.0</td>\n",
              "      <td>88.580507</td>\n",
              "      <td>2.989900</td>\n",
              "      <td>80.0</td>\n",
              "      <td>87.00</td>\n",
              "      <td>89.0</td>\n",
              "      <td>91.00</td>\n",
              "      <td>100.0</td>\n",
              "      <td>2294.0</td>\n",
              "      <td>35.437663</td>\n",
              "      <td>49.049458</td>\n",
              "      <td>5.0</td>\n",
              "      <td>15.00</td>\n",
              "      <td>21.0</td>\n",
              "      <td>38.00</td>\n",
              "      <td>850.0</td>\n",
              "    </tr>\n",
              "    <tr>\n",
              "      <th>Austria</th>\n",
              "      <td>3345.0</td>\n",
              "      <td>90.101345</td>\n",
              "      <td>2.499799</td>\n",
              "      <td>82.0</td>\n",
              "      <td>88.00</td>\n",
              "      <td>90.0</td>\n",
              "      <td>92.00</td>\n",
              "      <td>98.0</td>\n",
              "      <td>2799.0</td>\n",
              "      <td>30.762772</td>\n",
              "      <td>27.224797</td>\n",
              "      <td>7.0</td>\n",
              "      <td>18.00</td>\n",
              "      <td>25.0</td>\n",
              "      <td>36.50</td>\n",
              "      <td>1100.0</td>\n",
              "    </tr>\n",
              "    <tr>\n",
              "      <th>Bosnia and Herzegovina</th>\n",
              "      <td>2.0</td>\n",
              "      <td>86.500000</td>\n",
              "      <td>2.121320</td>\n",
              "      <td>85.0</td>\n",
              "      <td>85.75</td>\n",
              "      <td>86.5</td>\n",
              "      <td>87.25</td>\n",
              "      <td>88.0</td>\n",
              "      <td>2.0</td>\n",
              "      <td>12.500000</td>\n",
              "      <td>0.707107</td>\n",
              "      <td>12.0</td>\n",
              "      <td>12.25</td>\n",
              "      <td>12.5</td>\n",
              "      <td>12.75</td>\n",
              "      <td>13.0</td>\n",
              "    </tr>\n",
              "  </tbody>\n",
              "</table>\n",
              "</div>"
            ],
            "text/plain": [
              "                        points                       ... price               \n",
              "                         count       mean       std  ...   50%    75%     max\n",
              "country                                              ...                     \n",
              "Argentina               3800.0  86.710263  3.179627  ...  17.0  25.00   230.0\n",
              "Armenia                    2.0  87.500000  0.707107  ...  14.5  14.75    15.0\n",
              "Australia               2329.0  88.580507  2.989900  ...  21.0  38.00   850.0\n",
              "Austria                 3345.0  90.101345  2.499799  ...  25.0  36.50  1100.0\n",
              "Bosnia and Herzegovina     2.0  86.500000  2.121320  ...  12.5  12.75    13.0\n",
              "\n",
              "[5 rows x 16 columns]"
            ]
          },
          "metadata": {},
          "execution_count": 5
        }
      ]
    },
    {
      "cell_type": "code",
      "metadata": {
        "colab": {
          "base_uri": "https://localhost:8080/",
          "height": 230
        },
        "id": "50F460g3WA5G",
        "outputId": "0b552a67-61c4-4f48-c88c-4bb52dd6b177"
      },
      "source": [
        "country.mean().sort_values(by=\"points\",ascending=False).head()"
      ],
      "execution_count": 6,
      "outputs": [
        {
          "output_type": "execute_result",
          "data": {
            "text/html": [
              "<div>\n",
              "<style scoped>\n",
              "    .dataframe tbody tr th:only-of-type {\n",
              "        vertical-align: middle;\n",
              "    }\n",
              "\n",
              "    .dataframe tbody tr th {\n",
              "        vertical-align: top;\n",
              "    }\n",
              "\n",
              "    .dataframe thead th {\n",
              "        text-align: right;\n",
              "    }\n",
              "</style>\n",
              "<table border=\"1\" class=\"dataframe\">\n",
              "  <thead>\n",
              "    <tr style=\"text-align: right;\">\n",
              "      <th></th>\n",
              "      <th>points</th>\n",
              "      <th>price</th>\n",
              "    </tr>\n",
              "    <tr>\n",
              "      <th>country</th>\n",
              "      <th></th>\n",
              "      <th></th>\n",
              "    </tr>\n",
              "  </thead>\n",
              "  <tbody>\n",
              "    <tr>\n",
              "      <th>England</th>\n",
              "      <td>91.581081</td>\n",
              "      <td>51.681159</td>\n",
              "    </tr>\n",
              "    <tr>\n",
              "      <th>India</th>\n",
              "      <td>90.222222</td>\n",
              "      <td>13.333333</td>\n",
              "    </tr>\n",
              "    <tr>\n",
              "      <th>Austria</th>\n",
              "      <td>90.101345</td>\n",
              "      <td>30.762772</td>\n",
              "    </tr>\n",
              "    <tr>\n",
              "      <th>Germany</th>\n",
              "      <td>89.851732</td>\n",
              "      <td>42.257547</td>\n",
              "    </tr>\n",
              "    <tr>\n",
              "      <th>Canada</th>\n",
              "      <td>89.369650</td>\n",
              "      <td>35.712598</td>\n",
              "    </tr>\n",
              "  </tbody>\n",
              "</table>\n",
              "</div>"
            ],
            "text/plain": [
              "            points      price\n",
              "country                      \n",
              "England  91.581081  51.681159\n",
              "India    90.222222  13.333333\n",
              "Austria  90.101345  30.762772\n",
              "Germany  89.851732  42.257547\n",
              "Canada   89.369650  35.712598"
            ]
          },
          "metadata": {},
          "execution_count": 6
        }
      ]
    },
    {
      "cell_type": "code",
      "metadata": {
        "colab": {
          "base_uri": "https://localhost:8080/",
          "height": 712
        },
        "id": "Wzboe7ihWFrb",
        "outputId": "c9e2c20f-b301-4623-fc8a-ed9af99a45ef"
      },
      "source": [
        "plt.figure(figsize=(15,10))\n",
        "country.size().sort_values(ascending=False).plot.bar()\n",
        "plt.xticks(rotation=50)\n",
        "plt.title(\"Number of Wines per Country of Origin\")\n",
        "plt.xlabel(\"Country of Origin\")\n",
        "plt.ylabel(\"Number of Wines\")\n",
        "plt.show()"
      ],
      "execution_count": 7,
      "outputs": [
        {
          "output_type": "display_data",
          "data": {
            "image/png": "[encoded data removed]",
            "text/plain": [
              "<Figure size 1080x720 with 1 Axes>"
            ]
          },
          "metadata": {
            "needs_background": "light"
          }
        }
      ]
    },
    {
      "cell_type": "code",
      "metadata": {
        "colab": {
          "base_uri": "https://localhost:8080/",
          "height": 702,
          "referenced_widgets": [
            "c6fb58568bff450a802cf296faa8b07c",
            "723c1e7bdafd451aa613e838a779a127",
            "76c983b27366445ea28c832e678dc33c",
            "38c846a1d7144a23a484c284d8d2238b",
            "bacf4d8696a74c1ba12a7305a88a0d69",
            "38d643938c9146c4bd7f6ca102e912e5",
            "9c349b1a21574e928cf44ee725a20b58"
          ]
        },
        "id": "Cn5AADDrN2Bz",
        "outputId": "c0f7eaa2-6925-4870-de7b-2d246afeb6c8"
      },
      "source": [
        "def makeplot(maximum):\n",
        "  plt.figure(figsize=(20,10))\n",
        "  country.size().sort_values(ascending=False).head(maximum).plot.bar()\n",
        "  plt.xticks(rotation=70)\n",
        "  plt.title(\"Number of Wines per Country of Origin\")\n",
        "  plt.xlabel(\"Country of Origin\")\n",
        "  plt.ylabel(\"Number of Wines\")\n",
        "  # Save image\n",
        "  plt.savefig(\"wines.png\",bbox_inches = 'tight')\n",
        "  plt.show()\n",
        "\n",
        "interact(makeplot, df=fixed(df),maximum=[5,10,20,50])"
      ],
      "execution_count": 8,
      "outputs": [
        {
          "output_type": "display_data",
          "data": {
            "application/vnd.jupyter.widget-view+json": {
              "model_id": "c6fb58568bff450a802cf296faa8b07c",
              "version_minor": 0,
              "version_major": 2
            },
            "text/plain": [
              "interactive(children=(Dropdown(description='maximum', options=(5, 10, 20, 50), value=5), Output()), _dom_class…"
            ]
          },
          "metadata": {}
        },
        {
          "output_type": "execute_result",
          "data": {
            "text/plain": [
              "<function __main__.makeplot>"
            ]
          },
          "metadata": {},
          "execution_count": 8
        }
      ]
    }
  ]
}